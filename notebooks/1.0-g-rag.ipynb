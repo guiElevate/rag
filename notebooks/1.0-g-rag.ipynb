{
 "cells": [
  {
   "cell_type": "code",
   "execution_count": null,
   "metadata": {},
   "outputs": [],
   "source": [
    "from langchain_community.document_loaders import HuggingFaceDatasetLoader # permet de télécharger un dataset HuggingFaceDatasetLoader\n",
    "from langchain_community.embeddings import HuggingFaceEmbeddings # on récupère un embedding adapté aux données HugginFace\n",
    "from langchain.indexes.vectorstore import VectorstoreIndexCreator # permet à Lanchain de transformer les données en vecteurs"
   ]
  }
 ],
 "metadata": {
  "kernelspec": {
   "display_name": "rag_env",
   "language": "python",
   "name": "python3"
  },
  "language_info": {
   "name": "python",
   "version": "3.12.2"
  }
 },
 "nbformat": 4,
 "nbformat_minor": 2
}
